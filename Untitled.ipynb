{
 "cells": [
  {
   "cell_type": "code",
   "execution_count": 173,
   "metadata": {
    "scrolled": true
   },
   "outputs": [
    {
     "name": "stdout",
     "output_type": "stream",
     "text": [
      "['DSC_0298.JPG', 'DSC_0300.JPG', 'DSC_0301.JPG', 'DSC_0302.JPG', 'DSC_0303.JPG', 'DSC_0304.JPG', 'DSC_0305.JPG', 'DSC_0306.JPG', 'DSC_0307.JPG', 'DSC_0308.JPG', 'DSC_0309.JPG', 'DSC_0310.JPG', 'DSC_0311.JPG', 'DSC_0312.JPG', 'DSC_0313.JPG', 'DSC_0314.JPG', 'DSC_0315.JPG', 'DSC_0316.JPG', 'DSC_0317.JPG', 'DSC_0318.JPG', 'DSC_0319.JPG', 'DSC_0320.JPG', 'DSC_0321.JPG', 'DSC_0322.JPG', 'DSC_0323.JPG', 'DSC_0324.JPG', 'DSC_0325.JPG', 'DSC_0326.JPG', 'DSC_0327.JPG', 'DSC_0328.JPG', 'DSC_0329.JPG', 'DSC_0330.JPG', 'DSC_0331.JPG', 'DSC_0332.JPG', 'DSC_0333.JPG', 'DSC_0334.JPG', 'DSC_0335.JPG', 'DSC_0336.JPG', 'DSC_0337.JPG', 'DSC_0338.JPG', 'DSC_0339.JPG', 'DSC_0340.JPG', 'DSC_0341.JPG', 'DSC_0342.JPG', 'DSC_0343.JPG', 'DSC_0344.JPG', 'DSC_0345.JPG', 'DSC_0346.JPG', 'DSC_0347.JPG', 'DSC_0348.JPG', 'DSC_0349.JPG', 'DSC_0350.JPG', 'DSC_0351.JPG', 'DSC_0352.JPG', 'DSC_0353.JPG', 'DSC_0354.JPG', 'DSC_0355.JPG', 'DSC_0356.JPG', 'DSC_0357.JPG', 'DSC_0358.JPG', 'DSC_0359.JPG', 'DSC_0360.JPG', 'DSC_0361.JPG', 'DSC_0362.JPG', 'DSC_0363.JPG', 'DSC_0364.JPG', 'DSC_0365.JPG', 'DSC_0366.JPG', 'DSC_0367.JPG', 'DSC_0368.JPG', 'DSC_0369.JPG', 'DSC_0370.JPG', 'DSC_0371.JPG', 'DSC_0372.JPG', 'DSC_0373.JPG', 'DSC_0374.JPG', 'DSC_0375.JPG', 'DSC_0376.JPG', 'DSC_0377.JPG', 'DSC_0378.JPG', 'DSC_0379.JPG', 'DSC_0380.JPG', 'DSC_0381.JPG', 'DSC_0382.JPG', 'DSC_0383.JPG', 'DSC_0384.JPG', 'DSC_0385.JPG', 'DSC_0386.JPG', 'DSC_0387.JPG', 'DSC_0388.JPG', 'DSC_0389.JPG', 'DSC_0390.JPG', 'DSC_0391.JPG', 'DSC_0392.JPG', 'DSC_0393.JPG', 'DSC_0394.JPG', 'DSC_0395.JPG', 'DSC_0396.JPG', 'DSC_0397.JPG', 'DSC_0398.JPG', 'DSC_0399.JPG', 'DSC_0400.JPG', 'DSC_0401.JPG', 'DSC_0402.JPG', 'DSC_0403.JPG', 'DSC_0404.JPG', 'DSC_0405.JPG', 'DSC_0406.JPG', 'DSC_0407.JPG', 'DSC_0408.JPG', 'DSC_0409.JPG', 'DSC_0410.JPG', 'DSC_0411.JPG', 'DSC_0412.JPG', 'DSC_0413.JPG', 'DSC_0414.JPG', 'DSC_0415.JPG', 'DSC_0416.JPG', 'DSC_0417.JPG', 'DSC_0418.JPG', 'DSC_0419.JPG', 'DSC_0420.JPG', 'DSC_0421.JPG', 'DSC_0422.JPG', 'DSC_0423.JPG', 'DSC_0424.JPG', 'DSC_0425.JPG', 'DSC_0426.JPG', 'DSC_0427.JPG', 'DSC_0428.JPG', 'DSC_0429.JPG', 'DSC_0430.JPG']\n"
     ]
    }
   ],
   "source": [
    "import cv2\n",
    "import numpy as np\n",
    "import os\n",
    "import ipywidgets as widgets\n",
    "\n",
    "\n",
    "first_im_filename = 'DSC_0297.JPG'\n",
    "last_im_filename = 'DSC_0429.JPG'\n",
    "activated_relaxed_filename = 'DSC_0430.JPG'\n",
    "bleached_filename = '.jpg'\n",
    "\n",
    "ignore_files = [last_im_filename, activated_relaxed_filename, bleached_filename]\n",
    "file_list = [f for f in os.listdir('3') if f.endswith('.JPG') and not f in ignore_files ]\n",
    "\n",
    "#file_list = [f for f in os.listdir('3') if f.endswith('.JPG') and is not (activated_filename,activated_relaxed_filename, bleached_filename)]\n",
    "file_list.sort()\n",
    "\n",
    "print(file_list)\n",
    "\n",
    "\n"
   ]
  },
  {
   "cell_type": "code",
   "execution_count": 131,
   "metadata": {},
   "outputs": [],
   "source": [
    "cv2.HoughLines?"
   ]
  },
  {
   "cell_type": "code",
   "execution_count": 79,
   "metadata": {},
   "outputs": [
    {
     "data": {
      "text/plain": [
       "array([[271.       ,   1.5707964]], dtype=float32)"
      ]
     },
     "execution_count": 79,
     "metadata": {},
     "output_type": "execute_result"
    }
   ],
   "source": [
    "lines[0]"
   ]
  },
  {
   "cell_type": "code",
   "execution_count": 121,
   "metadata": {},
   "outputs": [],
   "source": [
    "np.isclose?"
   ]
  },
  {
   "cell_type": "code",
   "execution_count": 123,
   "metadata": {},
   "outputs": [
    {
     "data": {
      "text/plain": [
       "0.017453292519943295"
      ]
     },
     "execution_count": 123,
     "metadata": {},
     "output_type": "execute_result"
    }
   ],
   "source": [
    "np.pi/180\n"
   ]
  },
  {
   "cell_type": "code",
   "execution_count": null,
   "metadata": {},
   "outputs": [],
   "source": []
  }
 ],
 "metadata": {
  "kernelspec": {
   "display_name": "Python 3",
   "language": "python",
   "name": "python3"
  },
  "language_info": {
   "codemirror_mode": {
    "name": "ipython",
    "version": 3
   },
   "file_extension": ".py",
   "mimetype": "text/x-python",
   "name": "python",
   "nbconvert_exporter": "python",
   "pygments_lexer": "ipython3",
   "version": "3.6.8"
  }
 },
 "nbformat": 4,
 "nbformat_minor": 2
}
