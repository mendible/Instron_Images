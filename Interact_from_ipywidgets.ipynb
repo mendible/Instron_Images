{
 "cells": [
  {
   "cell_type": "markdown",
   "metadata": {},
   "source": [
    "# Interact from ipywidgets"
   ]
  },
  {
   "cell_type": "markdown",
   "metadata": {},
   "source": [
    "Loading libraries"
   ]
  },
  {
   "cell_type": "code",
   "execution_count": 103,
   "metadata": {},
   "outputs": [
    {
     "name": "stdout",
     "output_type": "stream",
     "text": [
      "Populating the interactive namespace from numpy and matplotlib\n"
     ]
    }
   ],
   "source": [
    "from ipywidgets import interact, fixed\n",
    "import ipywidgets as widgets\n",
    "import matplotlib.pyplot as plt\n",
    "import cv2\n",
    "import numpy as np\n",
    "\n",
    "# Inline matplotlib and costume image size\n",
    "%pylab inline\n",
    "pylab.rcParams['figure.figsize'] = (10, 8)"
   ]
  },
  {
   "cell_type": "markdown",
   "metadata": {},
   "source": [
    "Loading image"
   ]
  },
  {
   "cell_type": "code",
   "execution_count": 104,
   "metadata": {},
   "outputs": [],
   "source": [
    "image = cv2.imread(\"example.jpg\")"
   ]
  },
  {
   "cell_type": "code",
   "execution_count": 114,
   "metadata": {},
   "outputs": [],
   "source": [
    "def showEdges(hthresh, vthresh, blurType):\n",
    "    \"\"\" Function called by interact \"\"\"\n",
    "            \n",
    "    hthresh1, hthresh2 = hthresh\n",
    "    vthresh1, vthresh2 = vthresh\n",
    "    edges = cv2.rectangle(image, (hthresh1, vthresh1), (hthresh2, vthresh2), (255,0,0), 5)\n",
    "    plt.imshow(edges, cmap = 'gray')"
   ]
  },
  {
   "cell_type": "code",
   "execution_count": 115,
   "metadata": {},
   "outputs": [],
   "source": [
    "# Creating costume widget\n",
    "horizrangeSlider = widgets.IntRangeSlider(\n",
    "    value = [50, 2000],\n",
    "    min = 1,\n",
    "    max = 6000,\n",
    "    step = 1,\n",
    "    description = 'H Thresholds',\n",
    "    continuous_update = False\n",
    ")\n",
    "# Creating costume widget\n",
    "vertrangeSlider = widgets.IntRangeSlider(\n",
    "    value = [50, 3000],\n",
    "    min = 1,\n",
    "    max = 4000,\n",
    "    step = 1,\n",
    "    description = 'V Thresholds',\n",
    "    continuous_update = False\n",
    ")"
   ]
  },
  {
   "cell_type": "code",
   "execution_count": 116,
   "metadata": {
    "scrolled": true
   },
   "outputs": [
    {
     "data": {
      "application/vnd.jupyter.widget-view+json": {
       "model_id": "ea41d2a7e6dd44719fb452bad936979c",
       "version_major": 2,
       "version_minor": 0
      },
      "text/plain": [
       "interactive(children=(IntRangeSlider(value=(50, 2000), continuous_update=False, description='H Thresholds', ma…"
      ]
     },
     "metadata": {},
     "output_type": "display_data"
    },
    {
     "data": {
      "text/plain": [
       "<function __main__.showEdges(hthresh, vthresh, blurType)>"
      ]
     },
     "execution_count": 116,
     "metadata": {},
     "output_type": "execute_result"
    }
   ],
   "source": [
    "# Using interact from ipywidgets\n",
    "# You have to specify the value of every parameter\n",
    "# or define the specific widget (rangeSlider)\n",
    "# Other parameters must be fixed\n",
    "interact(showEdges,\n",
    "         hthresh = horizrangeSlider,\n",
    "         vthresh = vertrangeSlider,\n",
    "         blurType = ['Red', 'Green', 'Blue'])"
   ]
  },
  {
   "cell_type": "code",
   "execution_count": null,
   "metadata": {},
   "outputs": [],
   "source": []
  },
  {
   "cell_type": "code",
   "execution_count": 32,
   "metadata": {},
   "outputs": [],
   "source": [
    "cv2.rectangle?"
   ]
  },
  {
   "cell_type": "code",
   "execution_count": null,
   "metadata": {},
   "outputs": [],
   "source": []
  }
 ],
 "metadata": {
  "kernelspec": {
   "display_name": "Python 3",
   "language": "python",
   "name": "python3"
  },
  "language_info": {
   "codemirror_mode": {
    "name": "ipython",
    "version": 3
   },
   "file_extension": ".py",
   "mimetype": "text/x-python",
   "name": "python",
   "nbconvert_exporter": "python",
   "pygments_lexer": "ipython3",
   "version": "3.6.8"
  },
  "widgets": {
   "state": {
    "de66ce2382444e168ba82b4fd72f2643": {
     "views": [
      {
       "cell_index": 7
      }
     ]
    }
   },
   "version": "1.2.0"
  }
 },
 "nbformat": 4,
 "nbformat_minor": 1
}
